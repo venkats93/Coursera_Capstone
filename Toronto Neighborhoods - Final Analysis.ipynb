{
 "cells": [
  {
   "cell_type": "code",
   "execution_count": 1,
   "metadata": {},
   "outputs": [],
   "source": [
    "import pandas as pd\n",
    "from geopy.geocoders import Nominatim\n",
    "import folium\n",
    "import requests\n",
    "from pandas.io.json import json_normalize"
   ]
  },
  {
   "cell_type": "markdown",
   "metadata": {},
   "source": [
    "### Creation of previous dataframe condensed into single cell:"
   ]
  },
  {
   "cell_type": "code",
   "execution_count": 2,
   "metadata": {},
   "outputs": [
    {
     "data": {
      "text/html": [
       "<div>\n",
       "<style scoped>\n",
       "    .dataframe tbody tr th:only-of-type {\n",
       "        vertical-align: middle;\n",
       "    }\n",
       "\n",
       "    .dataframe tbody tr th {\n",
       "        vertical-align: top;\n",
       "    }\n",
       "\n",
       "    .dataframe thead th {\n",
       "        text-align: right;\n",
       "    }\n",
       "</style>\n",
       "<table border=\"1\" class=\"dataframe\">\n",
       "  <thead>\n",
       "    <tr style=\"text-align: right;\">\n",
       "      <th></th>\n",
       "      <th>Postal Code</th>\n",
       "      <th>Borough</th>\n",
       "      <th>Neighborhood</th>\n",
       "    </tr>\n",
       "  </thead>\n",
       "  <tbody>\n",
       "    <tr>\n",
       "      <th>0</th>\n",
       "      <td>M3A</td>\n",
       "      <td>North York</td>\n",
       "      <td>Parkwoods</td>\n",
       "    </tr>\n",
       "    <tr>\n",
       "      <th>1</th>\n",
       "      <td>M4A</td>\n",
       "      <td>North York</td>\n",
       "      <td>Victoria Village</td>\n",
       "    </tr>\n",
       "    <tr>\n",
       "      <th>2</th>\n",
       "      <td>M5A</td>\n",
       "      <td>Downtown Toronto</td>\n",
       "      <td>Regent Park, Harbourfront</td>\n",
       "    </tr>\n",
       "    <tr>\n",
       "      <th>3</th>\n",
       "      <td>M6A</td>\n",
       "      <td>North York</td>\n",
       "      <td>Lawrence Manor, Lawrence Heights</td>\n",
       "    </tr>\n",
       "    <tr>\n",
       "      <th>4</th>\n",
       "      <td>M7A</td>\n",
       "      <td>Downtown Toronto</td>\n",
       "      <td>Queen's Park, Ontario Provincial Government</td>\n",
       "    </tr>\n",
       "  </tbody>\n",
       "</table>\n",
       "</div>"
      ],
      "text/plain": [
       "  Postal Code           Borough                                 Neighborhood\n",
       "0         M3A        North York                                    Parkwoods\n",
       "1         M4A        North York                             Victoria Village\n",
       "2         M5A  Downtown Toronto                    Regent Park, Harbourfront\n",
       "3         M6A        North York             Lawrence Manor, Lawrence Heights\n",
       "4         M7A  Downtown Toronto  Queen's Park, Ontario Provincial Government"
      ]
     },
     "execution_count": 2,
     "metadata": {},
     "output_type": "execute_result"
    }
   ],
   "source": [
    "# Import html into pandas dataframe and Select required table into dataframe variable (df):\n",
    "alltables = pd.read_html('https://en.wikipedia.org/wiki/List_of_postal_codes_of_Canada:_M')\n",
    "df = alltables[0]\n",
    "\n",
    "# Ignore cells with a borough that is **Not assigned**:\n",
    "df.drop(df[df['Borough'] == 'Not assigned'].index, axis = 0, inplace = True)\n",
    "\n",
    "# If a cell has a borough but a **Not assigned** neighborhood, then the *neighborhood* will be the same as the *borough*.\n",
    "df['Neighborhood'].replace(to_replace = 'Not assigned', value = df['Borough'], inplace = True)\n",
    "\n",
    "# **Dataframe cleanup** (neighborhoods separated by comma, rename column and index reset):\n",
    "df['Neighborhood']=df['Neighborhood'].apply(lambda x: x.replace(' /', ','))\n",
    "df.rename(columns={\"Postal code\": \"Postal Code\"}, inplace=True)\n",
    "df.reset_index(inplace=True, drop = True)\n",
    "\n",
    "df.head()"
   ]
  },
  {
   "cell_type": "markdown",
   "metadata": {},
   "source": [
    "### Import Geospatial Coordinates:"
   ]
  },
  {
   "cell_type": "code",
   "execution_count": 3,
   "metadata": {},
   "outputs": [
    {
     "data": {
      "text/html": [
       "<div>\n",
       "<style scoped>\n",
       "    .dataframe tbody tr th:only-of-type {\n",
       "        vertical-align: middle;\n",
       "    }\n",
       "\n",
       "    .dataframe tbody tr th {\n",
       "        vertical-align: top;\n",
       "    }\n",
       "\n",
       "    .dataframe thead th {\n",
       "        text-align: right;\n",
       "    }\n",
       "</style>\n",
       "<table border=\"1\" class=\"dataframe\">\n",
       "  <thead>\n",
       "    <tr style=\"text-align: right;\">\n",
       "      <th></th>\n",
       "      <th>Postal Code</th>\n",
       "      <th>Latitude</th>\n",
       "      <th>Longitude</th>\n",
       "    </tr>\n",
       "  </thead>\n",
       "  <tbody>\n",
       "    <tr>\n",
       "      <th>0</th>\n",
       "      <td>M1B</td>\n",
       "      <td>43.806686</td>\n",
       "      <td>-79.194353</td>\n",
       "    </tr>\n",
       "    <tr>\n",
       "      <th>1</th>\n",
       "      <td>M1C</td>\n",
       "      <td>43.784535</td>\n",
       "      <td>-79.160497</td>\n",
       "    </tr>\n",
       "    <tr>\n",
       "      <th>2</th>\n",
       "      <td>M1E</td>\n",
       "      <td>43.763573</td>\n",
       "      <td>-79.188711</td>\n",
       "    </tr>\n",
       "    <tr>\n",
       "      <th>3</th>\n",
       "      <td>M1G</td>\n",
       "      <td>43.770992</td>\n",
       "      <td>-79.216917</td>\n",
       "    </tr>\n",
       "    <tr>\n",
       "      <th>4</th>\n",
       "      <td>M1H</td>\n",
       "      <td>43.773136</td>\n",
       "      <td>-79.239476</td>\n",
       "    </tr>\n",
       "  </tbody>\n",
       "</table>\n",
       "</div>"
      ],
      "text/plain": [
       "  Postal Code   Latitude  Longitude\n",
       "0         M1B  43.806686 -79.194353\n",
       "1         M1C  43.784535 -79.160497\n",
       "2         M1E  43.763573 -79.188711\n",
       "3         M1G  43.770992 -79.216917\n",
       "4         M1H  43.773136 -79.239476"
      ]
     },
     "execution_count": 3,
     "metadata": {},
     "output_type": "execute_result"
    }
   ],
   "source": [
    "geo = pd.read_csv('Geospatial_Coordinates.csv')\n",
    "geo.head()"
   ]
  },
  {
   "cell_type": "markdown",
   "metadata": {},
   "source": [
    "### Merge Dataframes"
   ]
  },
  {
   "cell_type": "code",
   "execution_count": 4,
   "metadata": {},
   "outputs": [],
   "source": [
    "df = df.merge(geo, on=['Postal Code'], how='left')"
   ]
  },
  {
   "cell_type": "markdown",
   "metadata": {},
   "source": [
    "### Check Updated Dataframe"
   ]
  },
  {
   "cell_type": "code",
   "execution_count": 5,
   "metadata": {},
   "outputs": [
    {
     "data": {
      "text/html": [
       "<div>\n",
       "<style scoped>\n",
       "    .dataframe tbody tr th:only-of-type {\n",
       "        vertical-align: middle;\n",
       "    }\n",
       "\n",
       "    .dataframe tbody tr th {\n",
       "        vertical-align: top;\n",
       "    }\n",
       "\n",
       "    .dataframe thead th {\n",
       "        text-align: right;\n",
       "    }\n",
       "</style>\n",
       "<table border=\"1\" class=\"dataframe\">\n",
       "  <thead>\n",
       "    <tr style=\"text-align: right;\">\n",
       "      <th></th>\n",
       "      <th>Postal Code</th>\n",
       "      <th>Borough</th>\n",
       "      <th>Neighborhood</th>\n",
       "      <th>Latitude</th>\n",
       "      <th>Longitude</th>\n",
       "    </tr>\n",
       "  </thead>\n",
       "  <tbody>\n",
       "    <tr>\n",
       "      <th>0</th>\n",
       "      <td>M3A</td>\n",
       "      <td>North York</td>\n",
       "      <td>Parkwoods</td>\n",
       "      <td>43.753259</td>\n",
       "      <td>-79.329656</td>\n",
       "    </tr>\n",
       "    <tr>\n",
       "      <th>1</th>\n",
       "      <td>M4A</td>\n",
       "      <td>North York</td>\n",
       "      <td>Victoria Village</td>\n",
       "      <td>43.725882</td>\n",
       "      <td>-79.315572</td>\n",
       "    </tr>\n",
       "    <tr>\n",
       "      <th>2</th>\n",
       "      <td>M5A</td>\n",
       "      <td>Downtown Toronto</td>\n",
       "      <td>Regent Park, Harbourfront</td>\n",
       "      <td>43.654260</td>\n",
       "      <td>-79.360636</td>\n",
       "    </tr>\n",
       "    <tr>\n",
       "      <th>3</th>\n",
       "      <td>M6A</td>\n",
       "      <td>North York</td>\n",
       "      <td>Lawrence Manor, Lawrence Heights</td>\n",
       "      <td>43.718518</td>\n",
       "      <td>-79.464763</td>\n",
       "    </tr>\n",
       "    <tr>\n",
       "      <th>4</th>\n",
       "      <td>M7A</td>\n",
       "      <td>Downtown Toronto</td>\n",
       "      <td>Queen's Park, Ontario Provincial Government</td>\n",
       "      <td>43.662301</td>\n",
       "      <td>-79.389494</td>\n",
       "    </tr>\n",
       "  </tbody>\n",
       "</table>\n",
       "</div>"
      ],
      "text/plain": [
       "  Postal Code           Borough                                 Neighborhood  \\\n",
       "0         M3A        North York                                    Parkwoods   \n",
       "1         M4A        North York                             Victoria Village   \n",
       "2         M5A  Downtown Toronto                    Regent Park, Harbourfront   \n",
       "3         M6A        North York             Lawrence Manor, Lawrence Heights   \n",
       "4         M7A  Downtown Toronto  Queen's Park, Ontario Provincial Government   \n",
       "\n",
       "    Latitude  Longitude  \n",
       "0  43.753259 -79.329656  \n",
       "1  43.725882 -79.315572  \n",
       "2  43.654260 -79.360636  \n",
       "3  43.718518 -79.464763  \n",
       "4  43.662301 -79.389494  "
      ]
     },
     "execution_count": 5,
     "metadata": {},
     "output_type": "execute_result"
    }
   ],
   "source": [
    "df.head()"
   ]
  },
  {
   "cell_type": "code",
   "execution_count": 6,
   "metadata": {},
   "outputs": [
    {
     "data": {
      "text/plain": [
       "(103, 5)"
      ]
     },
     "execution_count": 6,
     "metadata": {},
     "output_type": "execute_result"
    }
   ],
   "source": [
    "df.shape"
   ]
  },
  {
   "cell_type": "code",
   "execution_count": 7,
   "metadata": {},
   "outputs": [
    {
     "data": {
      "text/plain": [
       "Postal Code     0\n",
       "Borough         0\n",
       "Neighborhood    0\n",
       "Latitude        0\n",
       "Longitude       0\n",
       "dtype: int64"
      ]
     },
     "execution_count": 7,
     "metadata": {},
     "output_type": "execute_result"
    }
   ],
   "source": [
    "df.isna().sum()"
   ]
  },
  {
   "cell_type": "code",
   "execution_count": 8,
   "metadata": {},
   "outputs": [],
   "source": [
    "# df['Postal Code']=df['Postal Code'].astype('str')\n",
    "# geo['Postal Code']=geo['Postal Code'].astype('str')"
   ]
  },
  {
   "cell_type": "code",
   "execution_count": 9,
   "metadata": {},
   "outputs": [
    {
     "name": "stdout",
     "output_type": "stream",
     "text": [
      "Toronto has 10 boroughs and 103 neighborhoods.\n"
     ]
    }
   ],
   "source": [
    "print('Toronto has {} boroughs and {} neighborhoods.'.format(\n",
    "        len(df['Borough'].unique()),\n",
    "        df.shape[0]\n",
    "    )\n",
    ")"
   ]
  },
  {
   "cell_type": "markdown",
   "metadata": {},
   "source": [
    "### Get coordinates of Toronto City"
   ]
  },
  {
   "cell_type": "code",
   "execution_count": 10,
   "metadata": {},
   "outputs": [
    {
     "name": "stdout",
     "output_type": "stream",
     "text": [
      "The geograpical coordinate of Toronto City are 43.6534817, -79.3839347.\n"
     ]
    }
   ],
   "source": [
    "address = 'Toronto City'\n",
    "\n",
    "geolocator = Nominatim(user_agent=\"toronto_explorer\")\n",
    "location = geolocator.geocode(address)\n",
    "latitude = location.latitude\n",
    "longitude = location.longitude\n",
    "print('The geograpical coordinate of Toronto City are {}, {}.'.format(latitude, longitude))"
   ]
  },
  {
   "cell_type": "markdown",
   "metadata": {},
   "source": [
    "### Toronto City Map"
   ]
  },
  {
   "cell_type": "code",
   "execution_count": 11,
   "metadata": {
    "scrolled": true
   },
   "outputs": [
    {
     "data": {
      "text/html": [
       "<div style=\"width:100%;\"><div style=\"position:relative;width:100%;height:0;padding-bottom:60%;\"><iframe src=\"about:blank\" style=\"position:absolute;width:100%;height:100%;left:0;top:0;border:none !important;\" data-html=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 onload=\"this.contentDocument.open();this.contentDocument.write(atob(this.getAttribute('data-html')));this.contentDocument.close();\" allowfullscreen webkitallowfullscreen mozallowfullscreen></iframe></div></div>"
      ],
      "text/plain": [
       "<folium.folium.Map at 0x1168abf28>"
      ]
     },
     "execution_count": 11,
     "metadata": {},
     "output_type": "execute_result"
    }
   ],
   "source": [
    "# create map of New York using latitude and longitude values\n",
    "map_toronto = folium.Map(location=[latitude, longitude], zoom_start=10)\n",
    "\n",
    "# add markers to map\n",
    "for lat, lng, borough, neighborhood in zip(df['Latitude'], df['Longitude'], df['Borough'], df['Neighborhood']):\n",
    "    label = '{}, {}'.format(neighborhood, borough)\n",
    "    label = folium.Popup(label, parse_html=True)\n",
    "    folium.CircleMarker(\n",
    "        [lat, lng],\n",
    "        radius=5,\n",
    "        popup=label,\n",
    "        color='blue',\n",
    "        fill=True,\n",
    "        fill_color='#3186cc',\n",
    "        fill_opacity=0.7,\n",
    "        parse_html=False).add_to(map_toronto)  \n",
    "    \n",
    "map_toronto"
   ]
  },
  {
   "cell_type": "markdown",
   "metadata": {},
   "source": [
    "### Neighborhoods containing the work 'York'"
   ]
  },
  {
   "cell_type": "code",
   "execution_count": 12,
   "metadata": {},
   "outputs": [
    {
     "data": {
      "text/html": [
       "<div>\n",
       "<style scoped>\n",
       "    .dataframe tbody tr th:only-of-type {\n",
       "        vertical-align: middle;\n",
       "    }\n",
       "\n",
       "    .dataframe tbody tr th {\n",
       "        vertical-align: top;\n",
       "    }\n",
       "\n",
       "    .dataframe thead th {\n",
       "        text-align: right;\n",
       "    }\n",
       "</style>\n",
       "<table border=\"1\" class=\"dataframe\">\n",
       "  <thead>\n",
       "    <tr style=\"text-align: right;\">\n",
       "      <th></th>\n",
       "      <th>Postal Code</th>\n",
       "      <th>Borough</th>\n",
       "      <th>Neighborhood</th>\n",
       "      <th>Latitude</th>\n",
       "      <th>Longitude</th>\n",
       "    </tr>\n",
       "  </thead>\n",
       "  <tbody>\n",
       "    <tr>\n",
       "      <th>0</th>\n",
       "      <td>M3A</td>\n",
       "      <td>North York</td>\n",
       "      <td>Parkwoods</td>\n",
       "      <td>43.753259</td>\n",
       "      <td>-79.329656</td>\n",
       "    </tr>\n",
       "    <tr>\n",
       "      <th>1</th>\n",
       "      <td>M4A</td>\n",
       "      <td>North York</td>\n",
       "      <td>Victoria Village</td>\n",
       "      <td>43.725882</td>\n",
       "      <td>-79.315572</td>\n",
       "    </tr>\n",
       "    <tr>\n",
       "      <th>2</th>\n",
       "      <td>M6A</td>\n",
       "      <td>North York</td>\n",
       "      <td>Lawrence Manor, Lawrence Heights</td>\n",
       "      <td>43.718518</td>\n",
       "      <td>-79.464763</td>\n",
       "    </tr>\n",
       "    <tr>\n",
       "      <th>3</th>\n",
       "      <td>M3B</td>\n",
       "      <td>North York</td>\n",
       "      <td>Don Mills</td>\n",
       "      <td>43.745906</td>\n",
       "      <td>-79.352188</td>\n",
       "    </tr>\n",
       "    <tr>\n",
       "      <th>4</th>\n",
       "      <td>M4B</td>\n",
       "      <td>East York</td>\n",
       "      <td>Parkview Hill, Woodbine Gardens</td>\n",
       "      <td>43.706397</td>\n",
       "      <td>-79.309937</td>\n",
       "    </tr>\n",
       "    <tr>\n",
       "      <th>5</th>\n",
       "      <td>M6B</td>\n",
       "      <td>North York</td>\n",
       "      <td>Glencairn</td>\n",
       "      <td>43.709577</td>\n",
       "      <td>-79.445073</td>\n",
       "    </tr>\n",
       "    <tr>\n",
       "      <th>6</th>\n",
       "      <td>M3C</td>\n",
       "      <td>North York</td>\n",
       "      <td>Don Mills</td>\n",
       "      <td>43.725900</td>\n",
       "      <td>-79.340923</td>\n",
       "    </tr>\n",
       "    <tr>\n",
       "      <th>7</th>\n",
       "      <td>M4C</td>\n",
       "      <td>East York</td>\n",
       "      <td>Woodbine Heights</td>\n",
       "      <td>43.695344</td>\n",
       "      <td>-79.318389</td>\n",
       "    </tr>\n",
       "    <tr>\n",
       "      <th>8</th>\n",
       "      <td>M6C</td>\n",
       "      <td>York</td>\n",
       "      <td>Humewood-Cedarvale</td>\n",
       "      <td>43.693781</td>\n",
       "      <td>-79.428191</td>\n",
       "    </tr>\n",
       "    <tr>\n",
       "      <th>9</th>\n",
       "      <td>M6E</td>\n",
       "      <td>York</td>\n",
       "      <td>Caledonia-Fairbanks</td>\n",
       "      <td>43.689026</td>\n",
       "      <td>-79.453512</td>\n",
       "    </tr>\n",
       "    <tr>\n",
       "      <th>10</th>\n",
       "      <td>M4G</td>\n",
       "      <td>East York</td>\n",
       "      <td>Leaside</td>\n",
       "      <td>43.709060</td>\n",
       "      <td>-79.363452</td>\n",
       "    </tr>\n",
       "    <tr>\n",
       "      <th>11</th>\n",
       "      <td>M2H</td>\n",
       "      <td>North York</td>\n",
       "      <td>Hillcrest Village</td>\n",
       "      <td>43.803762</td>\n",
       "      <td>-79.363452</td>\n",
       "    </tr>\n",
       "    <tr>\n",
       "      <th>12</th>\n",
       "      <td>M3H</td>\n",
       "      <td>North York</td>\n",
       "      <td>Bathurst Manor, Wilson Heights, Downsview North</td>\n",
       "      <td>43.754328</td>\n",
       "      <td>-79.442259</td>\n",
       "    </tr>\n",
       "    <tr>\n",
       "      <th>13</th>\n",
       "      <td>M4H</td>\n",
       "      <td>East York</td>\n",
       "      <td>Thorncliffe Park</td>\n",
       "      <td>43.705369</td>\n",
       "      <td>-79.349372</td>\n",
       "    </tr>\n",
       "    <tr>\n",
       "      <th>14</th>\n",
       "      <td>M2J</td>\n",
       "      <td>North York</td>\n",
       "      <td>Fairview, Henry Farm, Oriole</td>\n",
       "      <td>43.778517</td>\n",
       "      <td>-79.346556</td>\n",
       "    </tr>\n",
       "    <tr>\n",
       "      <th>15</th>\n",
       "      <td>M3J</td>\n",
       "      <td>North York</td>\n",
       "      <td>Northwood Park, York University</td>\n",
       "      <td>43.767980</td>\n",
       "      <td>-79.487262</td>\n",
       "    </tr>\n",
       "    <tr>\n",
       "      <th>16</th>\n",
       "      <td>M4J</td>\n",
       "      <td>East York</td>\n",
       "      <td>East Toronto</td>\n",
       "      <td>43.685347</td>\n",
       "      <td>-79.338106</td>\n",
       "    </tr>\n",
       "    <tr>\n",
       "      <th>17</th>\n",
       "      <td>M2K</td>\n",
       "      <td>North York</td>\n",
       "      <td>Bayview Village</td>\n",
       "      <td>43.786947</td>\n",
       "      <td>-79.385975</td>\n",
       "    </tr>\n",
       "    <tr>\n",
       "      <th>18</th>\n",
       "      <td>M3K</td>\n",
       "      <td>North York</td>\n",
       "      <td>Downsview</td>\n",
       "      <td>43.737473</td>\n",
       "      <td>-79.464763</td>\n",
       "    </tr>\n",
       "    <tr>\n",
       "      <th>19</th>\n",
       "      <td>M2L</td>\n",
       "      <td>North York</td>\n",
       "      <td>York Mills, Silver Hills</td>\n",
       "      <td>43.757490</td>\n",
       "      <td>-79.374714</td>\n",
       "    </tr>\n",
       "    <tr>\n",
       "      <th>20</th>\n",
       "      <td>M3L</td>\n",
       "      <td>North York</td>\n",
       "      <td>Downsview</td>\n",
       "      <td>43.739015</td>\n",
       "      <td>-79.506944</td>\n",
       "    </tr>\n",
       "    <tr>\n",
       "      <th>21</th>\n",
       "      <td>M6L</td>\n",
       "      <td>North York</td>\n",
       "      <td>North Park, Maple Leaf Park, Upwood Park</td>\n",
       "      <td>43.713756</td>\n",
       "      <td>-79.490074</td>\n",
       "    </tr>\n",
       "    <tr>\n",
       "      <th>22</th>\n",
       "      <td>M9L</td>\n",
       "      <td>North York</td>\n",
       "      <td>Humber Summit</td>\n",
       "      <td>43.756303</td>\n",
       "      <td>-79.565963</td>\n",
       "    </tr>\n",
       "    <tr>\n",
       "      <th>23</th>\n",
       "      <td>M2M</td>\n",
       "      <td>North York</td>\n",
       "      <td>Willowdale, Newtonbrook</td>\n",
       "      <td>43.789053</td>\n",
       "      <td>-79.408493</td>\n",
       "    </tr>\n",
       "    <tr>\n",
       "      <th>24</th>\n",
       "      <td>M3M</td>\n",
       "      <td>North York</td>\n",
       "      <td>Downsview</td>\n",
       "      <td>43.728496</td>\n",
       "      <td>-79.495697</td>\n",
       "    </tr>\n",
       "    <tr>\n",
       "      <th>25</th>\n",
       "      <td>M5M</td>\n",
       "      <td>North York</td>\n",
       "      <td>Bedford Park, Lawrence Manor East</td>\n",
       "      <td>43.733283</td>\n",
       "      <td>-79.419750</td>\n",
       "    </tr>\n",
       "    <tr>\n",
       "      <th>26</th>\n",
       "      <td>M6M</td>\n",
       "      <td>York</td>\n",
       "      <td>Del Ray, Mount Dennis, Keelsdale and Silverthorn</td>\n",
       "      <td>43.691116</td>\n",
       "      <td>-79.476013</td>\n",
       "    </tr>\n",
       "    <tr>\n",
       "      <th>27</th>\n",
       "      <td>M9M</td>\n",
       "      <td>North York</td>\n",
       "      <td>Humberlea, Emery</td>\n",
       "      <td>43.724766</td>\n",
       "      <td>-79.532242</td>\n",
       "    </tr>\n",
       "    <tr>\n",
       "      <th>28</th>\n",
       "      <td>M2N</td>\n",
       "      <td>North York</td>\n",
       "      <td>Willowdale</td>\n",
       "      <td>43.770120</td>\n",
       "      <td>-79.408493</td>\n",
       "    </tr>\n",
       "    <tr>\n",
       "      <th>29</th>\n",
       "      <td>M3N</td>\n",
       "      <td>North York</td>\n",
       "      <td>Downsview</td>\n",
       "      <td>43.761631</td>\n",
       "      <td>-79.520999</td>\n",
       "    </tr>\n",
       "    <tr>\n",
       "      <th>30</th>\n",
       "      <td>M6N</td>\n",
       "      <td>York</td>\n",
       "      <td>Runnymede, The Junction North</td>\n",
       "      <td>43.673185</td>\n",
       "      <td>-79.487262</td>\n",
       "    </tr>\n",
       "    <tr>\n",
       "      <th>31</th>\n",
       "      <td>M9N</td>\n",
       "      <td>York</td>\n",
       "      <td>Weston</td>\n",
       "      <td>43.706876</td>\n",
       "      <td>-79.518188</td>\n",
       "    </tr>\n",
       "    <tr>\n",
       "      <th>32</th>\n",
       "      <td>M2P</td>\n",
       "      <td>North York</td>\n",
       "      <td>York Mills West</td>\n",
       "      <td>43.752758</td>\n",
       "      <td>-79.400049</td>\n",
       "    </tr>\n",
       "    <tr>\n",
       "      <th>33</th>\n",
       "      <td>M2R</td>\n",
       "      <td>North York</td>\n",
       "      <td>Willowdale</td>\n",
       "      <td>43.782736</td>\n",
       "      <td>-79.442259</td>\n",
       "    </tr>\n",
       "  </tbody>\n",
       "</table>\n",
       "</div>"
      ],
      "text/plain": [
       "   Postal Code     Borough                                      Neighborhood  \\\n",
       "0          M3A  North York                                         Parkwoods   \n",
       "1          M4A  North York                                  Victoria Village   \n",
       "2          M6A  North York                  Lawrence Manor, Lawrence Heights   \n",
       "3          M3B  North York                                         Don Mills   \n",
       "4          M4B   East York                   Parkview Hill, Woodbine Gardens   \n",
       "5          M6B  North York                                         Glencairn   \n",
       "6          M3C  North York                                         Don Mills   \n",
       "7          M4C   East York                                  Woodbine Heights   \n",
       "8          M6C        York                                Humewood-Cedarvale   \n",
       "9          M6E        York                               Caledonia-Fairbanks   \n",
       "10         M4G   East York                                           Leaside   \n",
       "11         M2H  North York                                 Hillcrest Village   \n",
       "12         M3H  North York   Bathurst Manor, Wilson Heights, Downsview North   \n",
       "13         M4H   East York                                  Thorncliffe Park   \n",
       "14         M2J  North York                      Fairview, Henry Farm, Oriole   \n",
       "15         M3J  North York                   Northwood Park, York University   \n",
       "16         M4J   East York                                      East Toronto   \n",
       "17         M2K  North York                                   Bayview Village   \n",
       "18         M3K  North York                                         Downsview   \n",
       "19         M2L  North York                          York Mills, Silver Hills   \n",
       "20         M3L  North York                                         Downsview   \n",
       "21         M6L  North York          North Park, Maple Leaf Park, Upwood Park   \n",
       "22         M9L  North York                                     Humber Summit   \n",
       "23         M2M  North York                           Willowdale, Newtonbrook   \n",
       "24         M3M  North York                                         Downsview   \n",
       "25         M5M  North York                 Bedford Park, Lawrence Manor East   \n",
       "26         M6M        York  Del Ray, Mount Dennis, Keelsdale and Silverthorn   \n",
       "27         M9M  North York                                  Humberlea, Emery   \n",
       "28         M2N  North York                                        Willowdale   \n",
       "29         M3N  North York                                         Downsview   \n",
       "30         M6N        York                     Runnymede, The Junction North   \n",
       "31         M9N        York                                            Weston   \n",
       "32         M2P  North York                                   York Mills West   \n",
       "33         M2R  North York                                        Willowdale   \n",
       "\n",
       "     Latitude  Longitude  \n",
       "0   43.753259 -79.329656  \n",
       "1   43.725882 -79.315572  \n",
       "2   43.718518 -79.464763  \n",
       "3   43.745906 -79.352188  \n",
       "4   43.706397 -79.309937  \n",
       "5   43.709577 -79.445073  \n",
       "6   43.725900 -79.340923  \n",
       "7   43.695344 -79.318389  \n",
       "8   43.693781 -79.428191  \n",
       "9   43.689026 -79.453512  \n",
       "10  43.709060 -79.363452  \n",
       "11  43.803762 -79.363452  \n",
       "12  43.754328 -79.442259  \n",
       "13  43.705369 -79.349372  \n",
       "14  43.778517 -79.346556  \n",
       "15  43.767980 -79.487262  \n",
       "16  43.685347 -79.338106  \n",
       "17  43.786947 -79.385975  \n",
       "18  43.737473 -79.464763  \n",
       "19  43.757490 -79.374714  \n",
       "20  43.739015 -79.506944  \n",
       "21  43.713756 -79.490074  \n",
       "22  43.756303 -79.565963  \n",
       "23  43.789053 -79.408493  \n",
       "24  43.728496 -79.495697  \n",
       "25  43.733283 -79.419750  \n",
       "26  43.691116 -79.476013  \n",
       "27  43.724766 -79.532242  \n",
       "28  43.770120 -79.408493  \n",
       "29  43.761631 -79.520999  \n",
       "30  43.673185 -79.487262  \n",
       "31  43.706876 -79.518188  \n",
       "32  43.752758 -79.400049  \n",
       "33  43.782736 -79.442259  "
      ]
     },
     "execution_count": 12,
     "metadata": {},
     "output_type": "execute_result"
    }
   ],
   "source": [
    "york = df[df['Borough'].astype(str).str.contains('York')]\n",
    "york.reset_index(inplace=True, drop = True)\n",
    "york"
   ]
  },
  {
   "cell_type": "code",
   "execution_count": 13,
   "metadata": {},
   "outputs": [
    {
     "data": {
      "text/plain": [
       "(34, 5)"
      ]
     },
     "execution_count": 13,
     "metadata": {},
     "output_type": "execute_result"
    }
   ],
   "source": [
    "york.shape"
   ]
  },
  {
   "cell_type": "code",
   "execution_count": 14,
   "metadata": {},
   "outputs": [
    {
     "data": {
      "text/html": [
       "<div style=\"width:100%;\"><div style=\"position:relative;width:100%;height:0;padding-bottom:60%;\"><iframe src=\"about:blank\" style=\"position:absolute;width:100%;height:100%;left:0;top:0;border:none !important;\" data-html=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 onload=\"this.contentDocument.open();this.contentDocument.write(atob(this.getAttribute('data-html')));this.contentDocument.close();\" allowfullscreen webkitallowfullscreen mozallowfullscreen></iframe></div></div>"
      ],
      "text/plain": [
       "<folium.folium.Map at 0x1168abbe0>"
      ]
     },
     "execution_count": 14,
     "metadata": {},
     "output_type": "execute_result"
    }
   ],
   "source": [
    "# create map of York dataframe using latitude and longitude values\n",
    "map_york = folium.Map(location=[latitude+0.06, longitude], zoom_start=11)\n",
    "\n",
    "# add markers to map\n",
    "for lat, lng, label in zip(york['Latitude'], york['Longitude'], york['Neighborhood']):\n",
    "    label = folium.Popup(label, parse_html=True)\n",
    "    folium.CircleMarker(\n",
    "        [lat, lng],\n",
    "        radius=5,\n",
    "        popup=label,\n",
    "        color='red',\n",
    "        fill=True,\n",
    "        fill_color='black',\n",
    "        fill_opacity=0.7,\n",
    "        parse_html=False).add_to(map_york)  \n",
    "    \n",
    "map_york"
   ]
  },
  {
   "cell_type": "code",
   "execution_count": 15,
   "metadata": {},
   "outputs": [
    {
     "name": "stdout",
     "output_type": "stream",
     "text": [
      "Your credentails:\n",
      "CLIENT_ID: AISHYS45K1UNBO4BMDGMKGWQVNVNXBPKEAQEM4FCQEW2DEW1\n",
      "CLIENT_SECRET:04LIUNELIOIHAOU3V1XC3GFRRS1LGBJ1MFESWONURQVC3SI2\n"
     ]
    }
   ],
   "source": [
    "CLIENT_ID = 'AISHYS45K1UNBO4BMDGMKGWQVNVNXBPKEAQEM4FCQEW2DEW1' # your Foursquare ID\n",
    "CLIENT_SECRET = '04LIUNELIOIHAOU3V1XC3GFRRS1LGBJ1MFESWONURQVC3SI2' # your Foursquare Secret\n",
    "VERSION = '20180605' # Foursquare API version\n",
    "\n",
    "print('Your credentails:')\n",
    "print('CLIENT_ID: ' + CLIENT_ID)\n",
    "print('CLIENT_SECRET:' + CLIENT_SECRET)"
   ]
  },
  {
   "cell_type": "markdown",
   "metadata": {},
   "source": [
    "**Analysis of attractions in or around Humewood-Cedarvale neighborhood**:"
   ]
  },
  {
   "cell_type": "code",
   "execution_count": 16,
   "metadata": {},
   "outputs": [
    {
     "name": "stdout",
     "output_type": "stream",
     "text": [
      "Latitude and longitude values of Humewood-Cedarvale are 43.6937813, -79.42819140000002.\n"
     ]
    }
   ],
   "source": [
    "neighborhood_latitude = york.loc[8, 'Latitude'] # neighborhood latitude value\n",
    "neighborhood_longitude = york.loc[8, 'Longitude'] # neighborhood longitude value\n",
    "neighborhood_name = york.loc[8, 'Neighborhood'] # neighborhood name\n",
    "\n",
    "print('Latitude and longitude values of {} are {}, {}.'.format(neighborhood_name, \n",
    "                                                               neighborhood_latitude, \n",
    "                                                               neighborhood_longitude))"
   ]
  },
  {
   "cell_type": "code",
   "execution_count": 17,
   "metadata": {},
   "outputs": [
    {
     "data": {
      "text/plain": [
       "{'meta': {'code': 200, 'requestId': '5eb0481e0f5968001b764da4'},\n",
       " 'response': {'headerLocation': 'Cedarvale',\n",
       "  'headerFullLocation': 'Cedarvale, Toronto',\n",
       "  'headerLocationGranularity': 'neighborhood',\n",
       "  'totalResults': 4,\n",
       "  'suggestedBounds': {'ne': {'lat': 43.6982813045, 'lng': -79.4219793104081},\n",
       "   'sw': {'lat': 43.689281295499995, 'lng': -79.43440348959193}},\n",
       "  'groups': [{'type': 'Recommended Places',\n",
       "    'name': 'recommended',\n",
       "    'items': [{'reasons': {'count': 0,\n",
       "       'items': [{'summary': 'This spot is popular',\n",
       "         'type': 'general',\n",
       "         'reasonName': 'globalInteractionReason'}]},\n",
       "      'venue': {'id': '4b0afc19f964a520212b23e3',\n",
       "       'name': 'Cedarvale Park',\n",
       "       'location': {'address': '100 glen cedar',\n",
       "        'crossStreet': 'Strathearn',\n",
       "        'lat': 43.692534923091934,\n",
       "        'lng': -79.42870527613704,\n",
       "        'labeledLatLngs': [{'label': 'display',\n",
       "          'lat': 43.692534923091934,\n",
       "          'lng': -79.42870527613704}],\n",
       "        'distance': 144,\n",
       "        'cc': 'CA',\n",
       "        'city': 'Toronto',\n",
       "        'state': 'ON',\n",
       "        'country': 'Canada',\n",
       "        'formattedAddress': ['100 glen cedar (Strathearn)',\n",
       "         'Toronto ON',\n",
       "         'Canada']},\n",
       "       'categories': [{'id': '4bf58dd8d48988d15f941735',\n",
       "         'name': 'Field',\n",
       "         'pluralName': 'Fields',\n",
       "         'shortName': 'Field',\n",
       "         'icon': {'prefix': 'https://ss3.4sqi.net/img/categories_v2/parks_outdoors/field_',\n",
       "          'suffix': '.png'},\n",
       "         'primary': True}],\n",
       "       'photos': {'count': 0, 'groups': []}},\n",
       "      'referralId': 'e-0-4b0afc19f964a520212b23e3-0'},\n",
       "     {'reasons': {'count': 0,\n",
       "       'items': [{'summary': 'This spot is popular',\n",
       "         'type': 'general',\n",
       "         'reasonName': 'globalInteractionReason'}]},\n",
       "      'venue': {'id': '4c24abfcf7ced13aa425236d',\n",
       "       'name': 'Cedarvale Ravine',\n",
       "       'location': {'lat': 43.690188230007266,\n",
       "        'lng': -79.42610580222994,\n",
       "        'labeledLatLngs': [{'label': 'display',\n",
       "          'lat': 43.690188230007266,\n",
       "          'lng': -79.42610580222994}],\n",
       "        'distance': 433,\n",
       "        'cc': 'CA',\n",
       "        'country': 'Canada',\n",
       "        'formattedAddress': ['Canada']},\n",
       "       'categories': [{'id': '4bf58dd8d48988d159941735',\n",
       "         'name': 'Trail',\n",
       "         'pluralName': 'Trails',\n",
       "         'shortName': 'Trail',\n",
       "         'icon': {'prefix': 'https://ss3.4sqi.net/img/categories_v2/parks_outdoors/hikingtrail_',\n",
       "          'suffix': '.png'},\n",
       "         'primary': True}],\n",
       "       'photos': {'count': 0, 'groups': []}},\n",
       "      'referralId': 'e-0-4c24abfcf7ced13aa425236d-1'},\n",
       "     {'reasons': {'count': 0,\n",
       "       'items': [{'summary': 'This spot is popular',\n",
       "         'type': 'general',\n",
       "         'reasonName': 'globalInteractionReason'}]},\n",
       "      'venue': {'id': '5050f634e4b092c65b899303',\n",
       "       'name': 'Cedarvale Dog Park',\n",
       "       'location': {'lat': 43.69203610226217,\n",
       "        'lng': -79.42949114916065,\n",
       "        'labeledLatLngs': [{'label': 'display',\n",
       "          'lat': 43.69203610226217,\n",
       "          'lng': -79.42949114916065}],\n",
       "        'distance': 220,\n",
       "        'cc': 'CA',\n",
       "        'city': 'Toronto',\n",
       "        'state': 'ON',\n",
       "        'country': 'Canada',\n",
       "        'formattedAddress': ['Toronto ON', 'Canada']},\n",
       "       'categories': [{'id': '4bf58dd8d48988d1e5941735',\n",
       "         'name': 'Dog Run',\n",
       "         'pluralName': 'Dog Runs',\n",
       "         'shortName': 'Dog Run',\n",
       "         'icon': {'prefix': 'https://ss3.4sqi.net/img/categories_v2/parks_outdoors/dogrun_',\n",
       "          'suffix': '.png'},\n",
       "         'primary': True}],\n",
       "       'photos': {'count': 0, 'groups': []}},\n",
       "      'referralId': 'e-0-5050f634e4b092c65b899303-2'},\n",
       "     {'reasons': {'count': 0,\n",
       "       'items': [{'summary': 'This spot is popular',\n",
       "         'type': 'general',\n",
       "         'reasonName': 'globalInteractionReason'}]},\n",
       "      'venue': {'id': '4d1cd5f409546dcb10f1d538',\n",
       "       'name': 'Phil White Arena',\n",
       "       'location': {'address': '443 Arlington Avenue',\n",
       "        'lat': 43.69130271699826,\n",
       "        'lng': -79.43176051142332,\n",
       "        'labeledLatLngs': [{'label': 'display',\n",
       "          'lat': 43.69130271699826,\n",
       "          'lng': -79.43176051142332}],\n",
       "        'distance': 398,\n",
       "        'cc': 'CA',\n",
       "        'country': 'Canada',\n",
       "        'formattedAddress': ['443 Arlington Avenue', 'Canada']},\n",
       "       'categories': [{'id': '4bf58dd8d48988d185941735',\n",
       "         'name': 'Hockey Arena',\n",
       "         'pluralName': 'Hockey Arenas',\n",
       "         'shortName': 'Hockey',\n",
       "         'icon': {'prefix': 'https://ss3.4sqi.net/img/categories_v2/arts_entertainment/stadium_hockey_',\n",
       "          'suffix': '.png'},\n",
       "         'primary': True}],\n",
       "       'photos': {'count': 0, 'groups': []}},\n",
       "      'referralId': 'e-0-4d1cd5f409546dcb10f1d538-3'}]}]}}"
      ]
     },
     "execution_count": 17,
     "metadata": {},
     "output_type": "execute_result"
    }
   ],
   "source": [
    "# type your answer here\n",
    "LIMIT = 100\n",
    "radius = 500\n",
    "\n",
    "url = 'https://api.foursquare.com/v2/venues/explore?&client_id={}&client_secret={}&v={}&ll={},{}&radius={}&limit={}'.format(\n",
    "    CLIENT_ID, \n",
    "    CLIENT_SECRET, \n",
    "    VERSION, \n",
    "    neighborhood_latitude, \n",
    "    neighborhood_longitude, \n",
    "    radius, \n",
    "    LIMIT)\n",
    "\n",
    "\n",
    "results = requests.get(url).json()\n",
    "results"
   ]
  },
  {
   "cell_type": "code",
   "execution_count": 18,
   "metadata": {},
   "outputs": [],
   "source": [
    "def get_category_type(row):\n",
    "    try:\n",
    "        categories_list = row['categories']\n",
    "    except:\n",
    "        categories_list = row['venue.categories']\n",
    "        \n",
    "    if len(categories_list) == 0:\n",
    "        return None\n",
    "    else:\n",
    "        return categories_list[0]['name']"
   ]
  },
  {
   "cell_type": "code",
   "execution_count": 19,
   "metadata": {},
   "outputs": [
    {
     "name": "stderr",
     "output_type": "stream",
     "text": [
      "/Users/venkat/opt/anaconda3/envs/ml_env/lib/python3.6/site-packages/ipykernel_launcher.py:3: FutureWarning: pandas.io.json.json_normalize is deprecated, use pandas.json_normalize instead\n",
      "  This is separate from the ipykernel package so we can avoid doing imports until\n"
     ]
    },
    {
     "data": {
      "text/html": [
       "<div>\n",
       "<style scoped>\n",
       "    .dataframe tbody tr th:only-of-type {\n",
       "        vertical-align: middle;\n",
       "    }\n",
       "\n",
       "    .dataframe tbody tr th {\n",
       "        vertical-align: top;\n",
       "    }\n",
       "\n",
       "    .dataframe thead th {\n",
       "        text-align: right;\n",
       "    }\n",
       "</style>\n",
       "<table border=\"1\" class=\"dataframe\">\n",
       "  <thead>\n",
       "    <tr style=\"text-align: right;\">\n",
       "      <th></th>\n",
       "      <th>name</th>\n",
       "      <th>categories</th>\n",
       "      <th>lat</th>\n",
       "      <th>lng</th>\n",
       "    </tr>\n",
       "  </thead>\n",
       "  <tbody>\n",
       "    <tr>\n",
       "      <th>0</th>\n",
       "      <td>Cedarvale Park</td>\n",
       "      <td>Field</td>\n",
       "      <td>43.692535</td>\n",
       "      <td>-79.428705</td>\n",
       "    </tr>\n",
       "    <tr>\n",
       "      <th>1</th>\n",
       "      <td>Cedarvale Ravine</td>\n",
       "      <td>Trail</td>\n",
       "      <td>43.690188</td>\n",
       "      <td>-79.426106</td>\n",
       "    </tr>\n",
       "    <tr>\n",
       "      <th>2</th>\n",
       "      <td>Cedarvale Dog Park</td>\n",
       "      <td>Dog Run</td>\n",
       "      <td>43.692036</td>\n",
       "      <td>-79.429491</td>\n",
       "    </tr>\n",
       "    <tr>\n",
       "      <th>3</th>\n",
       "      <td>Phil White Arena</td>\n",
       "      <td>Hockey Arena</td>\n",
       "      <td>43.691303</td>\n",
       "      <td>-79.431761</td>\n",
       "    </tr>\n",
       "  </tbody>\n",
       "</table>\n",
       "</div>"
      ],
      "text/plain": [
       "                 name    categories        lat        lng\n",
       "0      Cedarvale Park         Field  43.692535 -79.428705\n",
       "1    Cedarvale Ravine         Trail  43.690188 -79.426106\n",
       "2  Cedarvale Dog Park       Dog Run  43.692036 -79.429491\n",
       "3    Phil White Arena  Hockey Arena  43.691303 -79.431761"
      ]
     },
     "execution_count": 19,
     "metadata": {},
     "output_type": "execute_result"
    }
   ],
   "source": [
    "venues = results['response']['groups'][0]['items']\n",
    "    \n",
    "nearby_venues = json_normalize(venues) # flatten JSON\n",
    "\n",
    "# filter columns\n",
    "filtered_columns = ['venue.name', 'venue.categories', 'venue.location.lat', 'venue.location.lng']\n",
    "nearby_venues =nearby_venues.loc[:, filtered_columns]\n",
    "\n",
    "# filter the category for each row\n",
    "nearby_venues['venue.categories'] = nearby_venues.apply(get_category_type, axis=1)\n",
    "\n",
    "# clean columns\n",
    "nearby_venues.columns = [col.split(\".\")[-1] for col in nearby_venues.columns]\n",
    "\n",
    "nearby_venues"
   ]
  },
  {
   "cell_type": "code",
   "execution_count": 20,
   "metadata": {},
   "outputs": [
    {
     "name": "stdout",
     "output_type": "stream",
     "text": [
      "4 venues were returned by Foursquare.\n"
     ]
    }
   ],
   "source": [
    "print('{} venues were returned by Foursquare.'.format(nearby_venues.shape[0]))"
   ]
  },
  {
   "cell_type": "code",
   "execution_count": 21,
   "metadata": {},
   "outputs": [
    {
     "data": {
      "text/html": [
       "<div style=\"width:100%;\"><div style=\"position:relative;width:100%;height:0;padding-bottom:60%;\"><iframe src=\"about:blank\" style=\"position:absolute;width:100%;height:100%;left:0;top:0;border:none !important;\" data-html=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 onload=\"this.contentDocument.open();this.contentDocument.write(atob(this.getAttribute('data-html')));this.contentDocument.close();\" allowfullscreen webkitallowfullscreen mozallowfullscreen></iframe></div></div>"
      ],
      "text/plain": [
       "<folium.folium.Map at 0x116a70208>"
      ]
     },
     "execution_count": 21,
     "metadata": {},
     "output_type": "execute_result"
    }
   ],
   "source": [
    "# create map of York dataframe using latitude and longitude values\n",
    "map_ngbr = folium.Map(location=[neighborhood_latitude, neighborhood_longitude], zoom_start=15.5)\n",
    "\n",
    "# add markers to map\n",
    "for lat, lng, label in zip(nearby_venues['lat'], nearby_venues['lng'], nearby_venues['name']):\n",
    "    label = folium.Popup(label, parse_html=True)\n",
    "    folium.CircleMarker(\n",
    "        [lat, lng],\n",
    "        radius=6,\n",
    "        popup=label,\n",
    "        color='brown',\n",
    "        fill=True,\n",
    "        fill_color='yellow',\n",
    "        fill_opacity=0.7,\n",
    "        parse_html=False).add_to(map_ngbr)  \n",
    "    \n",
    "map_ngbr"
   ]
  }
 ],
 "metadata": {
  "kernelspec": {
   "display_name": "Python 3",
   "language": "python",
   "name": "python3"
  },
  "language_info": {
   "codemirror_mode": {
    "name": "ipython",
    "version": 3
   },
   "file_extension": ".py",
   "mimetype": "text/x-python",
   "name": "python",
   "nbconvert_exporter": "python",
   "pygments_lexer": "ipython3",
   "version": "3.6.10"
  }
 },
 "nbformat": 4,
 "nbformat_minor": 4
}
